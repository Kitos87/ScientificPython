{
  "nbformat": 4,
  "nbformat_minor": 0,
  "metadata": {
    "colab": {
      "provenance": [],
      "authorship_tag": "ABX9TyN2Ry8Ce8mbKrwwewUSLxbu",
      "include_colab_link": true
    },
    "kernelspec": {
      "name": "python3",
      "display_name": "Python 3"
    },
    "language_info": {
      "name": "python"
    }
  },
  "cells": [
    {
      "cell_type": "markdown",
      "metadata": {
        "id": "view-in-github",
        "colab_type": "text"
      },
      "source": [
        "<a href=\"https://colab.research.google.com/github/Kitos87/ScientificPython/blob/main/MethodNewton.ipynb\" target=\"_parent\"><img src=\"https://colab.research.google.com/assets/colab-badge.svg\" alt=\"Open In Colab\"/></a>"
      ]
    },
    {
      "cell_type": "markdown",
      "source": [
        "## Работу выполнил: Коровин Никита Олегович\n",
        "\n",
        "##Группа: 3822Б1ПР2\n",
        "\n",
        "##Задача 13. Метод Ньютона\n",
        "\n",
        "*Метод Ньютона* нахождения корня уравнения $f(x) = 0$ заключается в итерациях вида\n",
        "$$\n",
        "x_{i+1} = x_i - \\frac{f(x_i)}{f'(x_i)}.\n",
        "$$\n",
        "Написать функцию `mynewton(f, df, [x0, x1])`, реализующую метод Ньютона,\n",
        "где \n",
        "`f` – строка, задающая правую часть $f(x)$ уравнения,\n",
        "`df` – строка, задающая  $f'(x)$,\n",
        "`[x0, x1]` – отрезок локализации.\n",
        "Функция должна возвращать найденный корень с макимально возможной точностью.\n",
        "\n",
        "Написать программу, тестирующую эту\n",
        "функцию и сравнивающую ее с `scipy.optimize.newton`, `scipy.optimize.fsolve` на уравнениях:\n",
        "$$\n",
        "x^3 - 2x - 5 = 0, \\qquad 0\\le x \\le 3\n",
        "$$\n",
        "(исторический пример Валлиса),\n",
        "$$\n",
        "\\sin x = 0, \\qquad 1 \\le x \\le 4,\n",
        "$$\n",
        "$$\n",
        "x^3  = 0.001, \\qquad -1 \\le x \\le 1,\n",
        "$$\n",
        "$$\n",
        "\\ln x + \\frac{2}{3} = 0, \\qquad 0 \\le x \\le 1,\n",
        "$$\n",
        "$$\n",
        "\\mathop{\\rm sgn} (x-2)\\, \\sqrt{|x-2|} = 0, \\qquad 1 \\le x \\le 4,\n",
        "$$\n",
        "$$\n",
        " \\arctan x = \\frac{\\pi}{3}, \\qquad 0 \\le x \\le 5,\n",
        "$$\n",
        "$$\n",
        "\\frac{1}{x - \\pi} = 0, \\qquad 0 \\le x \\le 5.\n",
        "$$\n",
        "Программа должна печатать таблицу, в которой указываются найденные функциями `mynewton`,\n",
        "`scipy.optimize.newton`, `scipy.optimize.fsolve` решения, их относительные ошибки, и количества затраченных итераций.\n",
        "Сравнить и сделать выводы."
      ],
      "metadata": {
        "id": "HRVHcTnlQWgo"
      }
    },
    {
      "cell_type": "markdown",
      "source": [
        "#Ход работы\n"
      ],
      "metadata": {
        "id": "AQxSseVi9Hml"
      }
    },
    {
      "cell_type": "markdown",
      "source": [
        "1. Для начала подключим все необходимые библиотеки:\n",
        "\n",
        "\n",
        "\n"
      ],
      "metadata": {
        "id": "eIJ0Ld_3RxbB"
      }
    },
    {
      "cell_type": "code",
      "execution_count": 46,
      "metadata": {
        "id": "CGAnUzDRLnH3"
      },
      "outputs": [],
      "source": [
        "import numpy as np\n",
        "from scipy import optimize\n",
        "import pandas as pd"
      ]
    },
    {
      "cell_type": "markdown",
      "source": [
        "2. Список данных функций и их производных соответственно"
      ],
      "metadata": {
        "id": "cBOaK1uxTVHw"
      }
    },
    {
      "cell_type": "code",
      "source": [
        "def f_1(x):\n",
        "  return x**3 - 2*x - 5\n",
        "\n",
        "def fprime_1(x):\n",
        "  return 3*x**2 - 2\n",
        "\n",
        "def f_2(x):\n",
        "    return np.sin(x)\n",
        "\n",
        "def fprime_2(x):\n",
        "    return np.cos(x)\n",
        "\n",
        "def f_3(x):\n",
        "    return x**3 - 0.001\n",
        "\n",
        "def fprime_3(x):\n",
        "    return 3*x**2\n",
        "\n",
        "def f_4(x):\n",
        "    return np.log(x) + 2/3\n",
        "\n",
        "def fprime_4(x):\n",
        "    return 1/x\n",
        "\n",
        "def f_5(x):\n",
        "    return np.sign(x - 2) * np.sqrt(np.abs(x - 2))\n",
        "\n",
        "def fprime_5(x):\n",
        "    return (np.sign(x - 2)/3) * np.abs(x-2)**(-2/3)\n",
        "\n",
        "def f_6(x):\n",
        "    return np.arctan(x) - (np.pi / 3)\n",
        "\n",
        "def fprime_6(x):\n",
        "    return 1/(1 + x**2)\n",
        "\n",
        "def f_7(x):\n",
        "    return 1/(x - np.pi)\n",
        "\n",
        "def fprime_7(x):\n",
        "    return -1 / ((x - np.pi)**2)\n",
        "\n"
      ],
      "metadata": {
        "id": "Np9VtFI98ElF"
      },
      "execution_count": 120,
      "outputs": []
    },
    {
      "cell_type": "markdown",
      "source": [
        "3. Создадим следующие массивы: массив функций, массив производных, массив отрезка локализации."
      ],
      "metadata": {
        "id": "xWv3ooc-TkN-"
      }
    },
    {
      "cell_type": "code",
      "source": [
        "funcs = np.array([f_1, f_2, f_3, f_4, f_5, f_6, f_7])\n",
        "fprimes = np.array([fprime_1, fprime_2, fprime_3, fprime_4, fprime_5, fprime_6, fprime_7])\n",
        "intervals = np.vstack(([0, 3], [1, 4], [-1, 1], [0, 1], [1, 4], [0, 5], [0, 5]))"
      ],
      "metadata": {
        "id": "YXSwMyxZTenp"
      },
      "execution_count": 121,
      "outputs": []
    },
    {
      "cell_type": "markdown",
      "source": [
        "4. Вычислим корни для данных математический функций с помощью `optimize.newton` и `optimize.fsolve` и запишем их в массивы `roots_nr` и `roots_fs` соответственно"
      ],
      "metadata": {
        "id": "HRLFb-iYbflO"
      }
    },
    {
      "cell_type": "code",
      "source": [
        "solution_nr1 = optimize.newton(f_1, 3, fprime_1, tol=1e-12, maxiter=100)\n",
        "solution_nr2 = optimize.newton(f_2, 4, fprime_2, tol=1e-12, maxiter=100)\n",
        "solution_nr3 = optimize.newton(f_3, 1, fprime_3, tol=1e-12, maxiter=100)\n",
        "solution_nr4 = optimize.newton(f_4, 0.5, fprime_4, tol=1e-12, maxiter=100)\n",
        "solution_nr5 = optimize.newton(f_5, 2, fprime_5, tol=1e-12, maxiter=100)\n",
        "solution_nr6 = optimize.newton(f_6, 1, fprime_6, tol=1e-12, maxiter=100)\n",
        "solution_nr7 = optimize.newton(f_7, 2.1, fprime_7, disp = False)\n",
        "\n",
        "roots_nr = [solution_nr1, solution_nr2, solution_nr3, solution_nr4, solution_nr5, solution_nr6, solution_nr7]\n",
        "\n",
        "solution_fsolve1 = optimize.fsolve(f_1, 3, xtol=1e-12, maxfev=100)\n",
        "solution_fsolve2 = optimize.fsolve(f_2, 4, xtol=1e-12, maxfev=100)\n",
        "solution_fsolve3 = optimize.fsolve(f_3, 1, xtol=1e-12, maxfev=100)\n",
        "solution_fsolve4 = optimize.fsolve(f_4, 0.5, xtol=1e-12, maxfev=100)\n",
        "solution_fsolve5 = optimize.fsolve(f_5, 2, xtol=1e-12, maxfev=100) \n",
        "solution_fsolve6 = optimize.fsolve(f_6, 1, xtol=1e-12, maxfev=100)\n",
        "solution_fsolve7 = optimize.fsolve(f_7, 2.1, xtol=1e-12, maxfev=100)\n",
        "\n",
        "roots_fs = [solution_fsolve1, solution_fsolve2, solution_fsolve3, solution_fsolve4, solution_fsolve5, solution_fsolve6, solution_fsolve7]"
      ],
      "metadata": {
        "colab": {
          "base_uri": "https://localhost:8080/"
        },
        "id": "-rwKpNhnbPlP",
        "outputId": "15ba3c0a-92d3-4286-d0ea-063881cfda98"
      },
      "execution_count": 122,
      "outputs": [
        {
          "output_type": "stream",
          "name": "stderr",
          "text": [
            "/usr/local/lib/python3.10/dist-packages/scipy/optimize/_minpack_py.py:178: RuntimeWarning: The number of calls to function has reached maxfev = 100.\n",
            "  warnings.warn(msg, RuntimeWarning)\n"
          ]
        }
      ]
    },
    {
      "cell_type": "markdown",
      "source": [
        "5. Cоздадим пустые массивы для корней, количества итераций и флага сходимости, а также для подсчёта относительных ошибок"
      ],
      "metadata": {
        "id": "-vwXC4YVb1I1"
      }
    },
    {
      "cell_type": "code",
      "source": [
        "roots = np.zeros(len(funcs))\n",
        "niter = np.zeros(len(funcs))\n",
        "converged = np.zeros(len(funcs))\n",
        "error_nr = np.zeros(len(funcs))\n",
        "error_fs = np.zeros(len(funcs))"
      ],
      "metadata": {
        "id": "uHYpy_7DbXas"
      },
      "execution_count": 123,
      "outputs": []
    },
    {
      "cell_type": "markdown",
      "source": [
        "6. Напишем сообственную функцию `mynewton(f, df, interval)`, реализующую метод Ньютона,\n",
        "где \n",
        "`f` – строка, задающая правую часть $f(x)$ уравнения,\n",
        "`df` – строка, задающая  $f'(x)$,\n",
        "`interval` – отрезок локализации."
      ],
      "metadata": {
        "id": "ST7OtzXCZ1Uz"
      }
    },
    {
      "cell_type": "code",
      "source": [
        "def mynewton(f, fprime, interval):\n",
        "    epsilon = 1e-8\n",
        "    maxiter = 50\n",
        "    a, b = interval\n",
        "    #Метод бисекции для поиска начального приближения\n",
        "    if f(a) * f(b) >= 0:\n",
        "        print(\"Метод бисекции не может быть выполнен, так как f(a) и f(b) имеют одинаковый знак\")\n",
        "        return None, None, None\n",
        "    niter = 0\n",
        "    while abs(b-a) > epsilon and niter < maxiter:\n",
        "        niter += 1\n",
        "        m = (a+b)/2\n",
        "        if f(m) == 0:\n",
        "            return m, niter, 1\n",
        "        if f(a)*f(m) < 0:\n",
        "            b = m\n",
        "        else:\n",
        "            a = m\n",
        "    #Если метод бисекции не сходится, выбираем начальное приближение как середина интервала\n",
        "    x = (a+b)/2\n",
        "    if abs(fprime(x)) < 10**-8:\n",
        "        print(\"Производная сходится к нулю\")\n",
        "        return x, niter, 0\n",
        "    for i in range(maxiter):\n",
        "        try:\n",
        "            x = x - f(x) / fprime(x)\n",
        "        except ZeroDivisionError:\n",
        "            print(\"Деление на 0. Производная равна 0 в точке {}\".format(x))\n",
        "            return None, niter + i + 1, None\n",
        "        \n",
        "        if abs(f(x)) < epsilon:\n",
        "            return x, niter + i + 1, 1\n",
        "    print(\"Метод Ньютона не сошелся за заданное количество итераций для: \", f)\n",
        "    return x, niter + i + 1, 0\n",
        "\n"
      ],
      "metadata": {
        "id": "fYWwvMoKLxf_"
      },
      "execution_count": 128,
      "outputs": []
    },
    {
      "cell_type": "markdown",
      "source": [
        "**Описание к написанной выше функции**\n",
        "\n",
        "Код содержит функцию `mynewton`, которая принимает на вход три параметра: функцию `f`, производную этой функции `fprime` и интервал `interval`, на котором необходимо выполнить поиск корня.\n",
        "\n",
        "Первым делом мы задаем точность `epsilon` и максимальное количество итераций `maxiter`. Затем мы разбиваем интервал `interval` на две части, используя метод бисекции. Если на концах интервала функция принимает одинаковые значения, то метод бисекции невозможен.\n",
        "\n",
        "Если метод бисекции сходится, то мы выбираем полученную середину в качестве начального приближения для метода Ньютона. В противном случае начальным приближением будет середина интервала.\n",
        "\n",
        "Если производная функции в точке начального приближения близка к нулю, то мы выводим сообщение о том, что производная сходится к нулю, и возвращаем полученное начальное приближение вместе с номером итерации.\n",
        "\n",
        "Затем мы переходим к методу Ньютона. В цикле проходимся по максимальному количеству итераций `maxiter` и обновляем начальное приближение, пока не достигнем заданной точности `epsilon`.\n",
        "\n",
        "Если метод Ньютона не сошелся за заданное количество итераций, то мы выводим сообщение об этом и возвращаем последнее полученное значение вместе с номером итерации и кодом ошибки."
      ],
      "metadata": {
        "id": "DHFU51z0fIay"
      }
    },
    {
      "cell_type": "markdown",
      "source": [
        "**Комментарии к написанной выше функции**\n",
        "\n",
        "Метод Ньютона является методом численного решения уравнений, который требует начального приближения для нахождения корня функции. Начальное приближение должно быть достаточно близко к корню функции, чтобы метод сходился к правильному решению.\n",
        "\n",
        "Метод бисекции, в свою очередь, является методом численного решения уравнений, который находит корень функции на заданном интервале путем последовательного деления интервала пополам. Этот метод гарантирует нахождение корня функции, если функция непрерывна на интервале и имеет разные знаки на концах интервала.\n",
        "\n",
        "Использование метода бисекции для нахождения начального приближения в методе Ньютона обеспечивает начальное приближение, которое гарантированно близко к корню функции и позволяет методу Ньютона быстрее сойтись к правильному решению. Таким образом, использование метода бисекции для нахождения начального приближения является правильным математическим подходом и может улучшить производительность метода Ньютона при решении уравнений."
      ],
      "metadata": {
        "id": "_0YZbIoVeG3T"
      }
    },
    {
      "cell_type": "markdown",
      "source": [
        "**Что будет, если убрать Метод бисекции?**\n",
        "\n",
        "Если убрать метод бисекции и использовать только середину интервала в качестве начального приближения в методе Ньютона, то количество итераций может увеличиться или уменьшиться в зависимости от начального приближения.\n",
        "\n",
        "Если начальное приближение достаточно близко к корню и функция достаточно гладкая, то метод Ньютона может сойтись быстрее без использования метода бисекции. В этом случае количество итераций может уменьшиться.\n",
        "\n",
        "Однако, если начальное приближение далеко от корня или функция имеет особенности (например, разрывы или точки разрыва производной), то метод Ньютона может расходиться без использования метода бисекции. В этом случае количество итераций может значительно увеличиться.\n",
        "\n",
        "Например, если начальное приближение выбрать неудачно и оно окажется в области, где функция имеет очень малое значение производной или производная равна нулю, то метод Ньютона может расходиться. В этом случае использование метода бисекции для нахождения начального приближения может помочь выбрать более удачное начальное приближение и ускорить сходимость метода Ньютона.\n",
        "\n",
        "Что касается относительной ошибки, то она также может измениться при удалении метода бисекции из метода Ньютона. Если метод Ньютона сходится к корню, то относительная ошибка будет примерно одинакова с и без использования метода бисекции. Однако, если метод Ньютона расходится, то относительная ошибка может быть значительно больше без метода бисекции, поскольку алгоритм может двигаться в сторону неверного корня.\n",
        "\n",
        "Таким образом, использование метода бисекции для нахождения начального приближения может существенно улучшить производительность и точность метода Ньютона, особенно для функций с несколькими корнями или функций, которые имеют сложную форму или изменчивую производную."
      ],
      "metadata": {
        "id": "q_p86bTXwT56"
      }
    },
    {
      "cell_type": "markdown",
      "source": [
        "**Что с количеством итераций?**\n",
        "\n",
        "Количество итераций в методе Ньютона существенно зависит от выбора начального приближения, которое должно быть достаточно близко к истинному корню. Использование метода бисекции для нахождения начального приближения может гарантировать нахождение корня, но за счет увеличения количества итераций в методе Ньютона. Это происходит потому, что метод бисекции сходится медленнее, чем метод Ньютона, и обычно требует большего количества итераций, чтобы достичь нужной точности. Поэтому, если начальное приближение уже известно и достаточно близко к истинному корню, то применение метода бисекции не требуется и может уменьшить количество итераций в методе Ньютона. Однако, если начальное приближение неизвестно или недостаточно близко к корню, то использование метода бисекции для его нахождения может увеличить точность и уменьшить вероятность расхождения метода Ньютона.\n"
      ],
      "metadata": {
        "id": "29U6Upqi4GY5"
      }
    },
    {
      "cell_type": "markdown",
      "source": [
        "7. Создадим таблицу с результатами"
      ],
      "metadata": {
        "id": "haiPm5fpcj0O"
      }
    },
    {
      "cell_type": "code",
      "source": [
        "for i in range(len(funcs)):\n",
        "    a, b = intervals[i]\n",
        "    root, iter_num, conv_flag = mynewton(funcs[i], fprimes[i], [a, b])\n",
        "    roots[i] = root\n",
        "    niter[i] = iter_num\n",
        "    converged[i] = conv_flag\n",
        "    error_nr[i] = np.abs((roots[i] - roots_nr[i]) / roots_nr[i]) * 100\n",
        "    error_fs[i] = np.abs((roots[i] - roots_fs[i]) / roots_fs[i]) * 100\n",
        "\n",
        "data = {\"Функция\": [\"x^3 - 2x - 5\", \"sin(x)\", \"x^3 = 0.001\", \"ln(x) + 2/3\", \"sgn(x-2)*sqrt(abs(x-2))\", \"arctan(x) = pi / 3\", \"1/ (x - pi)\"], \n",
        "        \"Интервал\": intervals.tolist(), \n",
        "        \"MyNewton\": roots,\n",
        "        \"optimize.newton\": roots_nr, \n",
        "        \"optimize.fsolve\": [x[0] for x in roots_fs],\n",
        "        \"Ошибка opt.newton\": error_nr,\n",
        "        \"Ошибка opt.fsolve\": error_fs,\n",
        "        \"Кол-во итераций\": niter, \n",
        "        \"Сходится\": converged}\n",
        "        \n",
        "table = pd.DataFrame(data)\n",
        "table.index += 1\n",
        "table"
      ],
      "metadata": {
        "colab": {
          "base_uri": "https://localhost:8080/",
          "height": 338
        },
        "id": "HllYg3xl8QNk",
        "outputId": "c4c76812-d4eb-47b9-91dc-f57f2949bb96"
      },
      "execution_count": 129,
      "outputs": [
        {
          "output_type": "stream",
          "name": "stdout",
          "text": [
            "Метод Ньютона не сошелся за заданное количество итераций для:  <function f_5 at 0x7efbf00516c0>\n",
            "Метод Ньютона не сошелся за заданное количество итераций для:  <function f_7 at 0x7efbf0052dd0>\n"
          ]
        },
        {
          "output_type": "stream",
          "name": "stderr",
          "text": [
            "<ipython-input-120-0f669f51e139>:20: RuntimeWarning: divide by zero encountered in log\n",
            "  return np.log(x) + 2/3\n"
          ]
        },
        {
          "output_type": "execute_result",
          "data": {
            "text/plain": [
              "                   Функция Интервал      MyNewton  optimize.newton  \\\n",
              "1             x^3 - 2x - 5   [0, 3]  2.094551e+00     2.094551e+00   \n",
              "2                   sin(x)   [1, 4]  3.141593e+00     3.141593e+00   \n",
              "3              x^3 = 0.001  [-1, 1]  1.000000e-01     1.000000e-01   \n",
              "4              ln(x) + 2/3   [0, 1]  5.134171e-01     5.134171e-01   \n",
              "5  sgn(x-2)*sqrt(abs(x-2))   [1, 4]  1.999998e+00     2.000000e+00   \n",
              "6       arctan(x) = pi / 3   [0, 5]  1.732051e+00     1.732051e+00   \n",
              "7              1/ (x - pi)   [0, 5] -1.185417e+06    -1.172729e+15   \n",
              "\n",
              "   optimize.fsolve  Ошибка opt.newton  Ошибка opt.fsolve  Кол-во итераций  \\\n",
              "1     2.094551e+00       0.000000e+00       0.000000e+00             30.0   \n",
              "2     3.141593e+00       0.000000e+00       0.000000e+00             30.0   \n",
              "3     1.000000e-01       5.551115e-14       4.163336e-14             29.0   \n",
              "4     5.134171e-01       0.000000e+00       0.000000e+00             28.0   \n",
              "5     2.000000e+00       8.709353e-05       8.709353e-05             79.0   \n",
              "6     1.732051e+00       0.000000e+00       1.281975e-14             30.0   \n",
              "7    -3.689580e+20       1.000000e+02       1.000000e+02             79.0   \n",
              "\n",
              "   Сходится  \n",
              "1       1.0  \n",
              "2       1.0  \n",
              "3       1.0  \n",
              "4       1.0  \n",
              "5       0.0  \n",
              "6       1.0  \n",
              "7       0.0  "
            ],
            "text/html": [
              "\n",
              "  <div id=\"df-41a59484-ad85-45ab-af1e-d3dfb74da617\">\n",
              "    <div class=\"colab-df-container\">\n",
              "      <div>\n",
              "<style scoped>\n",
              "    .dataframe tbody tr th:only-of-type {\n",
              "        vertical-align: middle;\n",
              "    }\n",
              "\n",
              "    .dataframe tbody tr th {\n",
              "        vertical-align: top;\n",
              "    }\n",
              "\n",
              "    .dataframe thead th {\n",
              "        text-align: right;\n",
              "    }\n",
              "</style>\n",
              "<table border=\"1\" class=\"dataframe\">\n",
              "  <thead>\n",
              "    <tr style=\"text-align: right;\">\n",
              "      <th></th>\n",
              "      <th>Функция</th>\n",
              "      <th>Интервал</th>\n",
              "      <th>MyNewton</th>\n",
              "      <th>optimize.newton</th>\n",
              "      <th>optimize.fsolve</th>\n",
              "      <th>Ошибка opt.newton</th>\n",
              "      <th>Ошибка opt.fsolve</th>\n",
              "      <th>Кол-во итераций</th>\n",
              "      <th>Сходится</th>\n",
              "    </tr>\n",
              "  </thead>\n",
              "  <tbody>\n",
              "    <tr>\n",
              "      <th>1</th>\n",
              "      <td>x^3 - 2x - 5</td>\n",
              "      <td>[0, 3]</td>\n",
              "      <td>2.094551e+00</td>\n",
              "      <td>2.094551e+00</td>\n",
              "      <td>2.094551e+00</td>\n",
              "      <td>0.000000e+00</td>\n",
              "      <td>0.000000e+00</td>\n",
              "      <td>30.0</td>\n",
              "      <td>1.0</td>\n",
              "    </tr>\n",
              "    <tr>\n",
              "      <th>2</th>\n",
              "      <td>sin(x)</td>\n",
              "      <td>[1, 4]</td>\n",
              "      <td>3.141593e+00</td>\n",
              "      <td>3.141593e+00</td>\n",
              "      <td>3.141593e+00</td>\n",
              "      <td>0.000000e+00</td>\n",
              "      <td>0.000000e+00</td>\n",
              "      <td>30.0</td>\n",
              "      <td>1.0</td>\n",
              "    </tr>\n",
              "    <tr>\n",
              "      <th>3</th>\n",
              "      <td>x^3 = 0.001</td>\n",
              "      <td>[-1, 1]</td>\n",
              "      <td>1.000000e-01</td>\n",
              "      <td>1.000000e-01</td>\n",
              "      <td>1.000000e-01</td>\n",
              "      <td>5.551115e-14</td>\n",
              "      <td>4.163336e-14</td>\n",
              "      <td>29.0</td>\n",
              "      <td>1.0</td>\n",
              "    </tr>\n",
              "    <tr>\n",
              "      <th>4</th>\n",
              "      <td>ln(x) + 2/3</td>\n",
              "      <td>[0, 1]</td>\n",
              "      <td>5.134171e-01</td>\n",
              "      <td>5.134171e-01</td>\n",
              "      <td>5.134171e-01</td>\n",
              "      <td>0.000000e+00</td>\n",
              "      <td>0.000000e+00</td>\n",
              "      <td>28.0</td>\n",
              "      <td>1.0</td>\n",
              "    </tr>\n",
              "    <tr>\n",
              "      <th>5</th>\n",
              "      <td>sgn(x-2)*sqrt(abs(x-2))</td>\n",
              "      <td>[1, 4]</td>\n",
              "      <td>1.999998e+00</td>\n",
              "      <td>2.000000e+00</td>\n",
              "      <td>2.000000e+00</td>\n",
              "      <td>8.709353e-05</td>\n",
              "      <td>8.709353e-05</td>\n",
              "      <td>79.0</td>\n",
              "      <td>0.0</td>\n",
              "    </tr>\n",
              "    <tr>\n",
              "      <th>6</th>\n",
              "      <td>arctan(x) = pi / 3</td>\n",
              "      <td>[0, 5]</td>\n",
              "      <td>1.732051e+00</td>\n",
              "      <td>1.732051e+00</td>\n",
              "      <td>1.732051e+00</td>\n",
              "      <td>0.000000e+00</td>\n",
              "      <td>1.281975e-14</td>\n",
              "      <td>30.0</td>\n",
              "      <td>1.0</td>\n",
              "    </tr>\n",
              "    <tr>\n",
              "      <th>7</th>\n",
              "      <td>1/ (x - pi)</td>\n",
              "      <td>[0, 5]</td>\n",
              "      <td>-1.185417e+06</td>\n",
              "      <td>-1.172729e+15</td>\n",
              "      <td>-3.689580e+20</td>\n",
              "      <td>1.000000e+02</td>\n",
              "      <td>1.000000e+02</td>\n",
              "      <td>79.0</td>\n",
              "      <td>0.0</td>\n",
              "    </tr>\n",
              "  </tbody>\n",
              "</table>\n",
              "</div>\n",
              "      <button class=\"colab-df-convert\" onclick=\"convertToInteractive('df-41a59484-ad85-45ab-af1e-d3dfb74da617')\"\n",
              "              title=\"Convert this dataframe to an interactive table.\"\n",
              "              style=\"display:none;\">\n",
              "        \n",
              "  <svg xmlns=\"http://www.w3.org/2000/svg\" height=\"24px\"viewBox=\"0 0 24 24\"\n",
              "       width=\"24px\">\n",
              "    <path d=\"M0 0h24v24H0V0z\" fill=\"none\"/>\n",
              "    <path d=\"M18.56 5.44l.94 2.06.94-2.06 2.06-.94-2.06-.94-.94-2.06-.94 2.06-2.06.94zm-11 1L8.5 8.5l.94-2.06 2.06-.94-2.06-.94L8.5 2.5l-.94 2.06-2.06.94zm10 10l.94 2.06.94-2.06 2.06-.94-2.06-.94-.94-2.06-.94 2.06-2.06.94z\"/><path d=\"M17.41 7.96l-1.37-1.37c-.4-.4-.92-.59-1.43-.59-.52 0-1.04.2-1.43.59L10.3 9.45l-7.72 7.72c-.78.78-.78 2.05 0 2.83L4 21.41c.39.39.9.59 1.41.59.51 0 1.02-.2 1.41-.59l7.78-7.78 2.81-2.81c.8-.78.8-2.07 0-2.86zM5.41 20L4 18.59l7.72-7.72 1.47 1.35L5.41 20z\"/>\n",
              "  </svg>\n",
              "      </button>\n",
              "      \n",
              "  <style>\n",
              "    .colab-df-container {\n",
              "      display:flex;\n",
              "      flex-wrap:wrap;\n",
              "      gap: 12px;\n",
              "    }\n",
              "\n",
              "    .colab-df-convert {\n",
              "      background-color: #E8F0FE;\n",
              "      border: none;\n",
              "      border-radius: 50%;\n",
              "      cursor: pointer;\n",
              "      display: none;\n",
              "      fill: #1967D2;\n",
              "      height: 32px;\n",
              "      padding: 0 0 0 0;\n",
              "      width: 32px;\n",
              "    }\n",
              "\n",
              "    .colab-df-convert:hover {\n",
              "      background-color: #E2EBFA;\n",
              "      box-shadow: 0px 1px 2px rgba(60, 64, 67, 0.3), 0px 1px 3px 1px rgba(60, 64, 67, 0.15);\n",
              "      fill: #174EA6;\n",
              "    }\n",
              "\n",
              "    [theme=dark] .colab-df-convert {\n",
              "      background-color: #3B4455;\n",
              "      fill: #D2E3FC;\n",
              "    }\n",
              "\n",
              "    [theme=dark] .colab-df-convert:hover {\n",
              "      background-color: #434B5C;\n",
              "      box-shadow: 0px 1px 3px 1px rgba(0, 0, 0, 0.15);\n",
              "      filter: drop-shadow(0px 1px 2px rgba(0, 0, 0, 0.3));\n",
              "      fill: #FFFFFF;\n",
              "    }\n",
              "  </style>\n",
              "\n",
              "      <script>\n",
              "        const buttonEl =\n",
              "          document.querySelector('#df-41a59484-ad85-45ab-af1e-d3dfb74da617 button.colab-df-convert');\n",
              "        buttonEl.style.display =\n",
              "          google.colab.kernel.accessAllowed ? 'block' : 'none';\n",
              "\n",
              "        async function convertToInteractive(key) {\n",
              "          const element = document.querySelector('#df-41a59484-ad85-45ab-af1e-d3dfb74da617');\n",
              "          const dataTable =\n",
              "            await google.colab.kernel.invokeFunction('convertToInteractive',\n",
              "                                                     [key], {});\n",
              "          if (!dataTable) return;\n",
              "\n",
              "          const docLinkHtml = 'Like what you see? Visit the ' +\n",
              "            '<a target=\"_blank\" href=https://colab.research.google.com/notebooks/data_table.ipynb>data table notebook</a>'\n",
              "            + ' to learn more about interactive tables.';\n",
              "          element.innerHTML = '';\n",
              "          dataTable['output_type'] = 'display_data';\n",
              "          await google.colab.output.renderOutput(dataTable, element);\n",
              "          const docLink = document.createElement('div');\n",
              "          docLink.innerHTML = docLinkHtml;\n",
              "          element.appendChild(docLink);\n",
              "        }\n",
              "      </script>\n",
              "    </div>\n",
              "  </div>\n",
              "  "
            ]
          },
          "metadata": {},
          "execution_count": 129
        }
      ]
    },
    {
      "cell_type": "markdown",
      "source": [
        "#Выводы\n",
        "\n",
        "Исходя из результатов сравнения функции `mynewton` с библиотечными функциями `scipy.optimize.newton` и `scipy.optimize.fsolve` на различных математических функциях, можно сделать вывод, что метод Ньютона, используемый в функции `mynewton`, работает эффективно и дает точные результаты на большинстве функций. Однако, на некоторых функциях, метод Ньютона может не сходиться или давать неверные результаты из-за выбора неправильного начального приближения. В этом случае, метод бисекции, используемый для поиска начального приближения, помогает улучшить сходимость метода Ньютона.\n",
        "\n",
        "Таким образом, использование метода бисекции в функции `mynewton` позволяет повысить ее точность и ускорить сходимость. Кроме того, сравнение результатов `mynewton` с библиотечными функциями показывает, что функция `mynewton` может быть использована как альтернатива библиотечным функциям для решения уравнений."
      ],
      "metadata": {
        "id": "9u-LhBbwu-t6"
      }
    }
  ]
}